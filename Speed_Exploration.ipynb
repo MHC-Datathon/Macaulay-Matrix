{
 "cells": [
  {
   "cell_type": "code",
   "execution_count": 1,
   "id": "fbf7def7",
   "metadata": {},
   "outputs": [],
   "source": [
    "import pandas as pd "
   ]
  },
  {
   "cell_type": "code",
   "execution_count": 18,
   "id": "03104f5e",
   "metadata": {},
   "outputs": [
    {
     "name": "stdout",
     "output_type": "stream",
     "text": [
      "758\n"
     ]
    },
    {
     "data": {
      "text/html": [
       "<div>\n",
       "<style scoped>\n",
       "    .dataframe tbody tr th:only-of-type {\n",
       "        vertical-align: middle;\n",
       "    }\n",
       "\n",
       "    .dataframe tbody tr th {\n",
       "        vertical-align: top;\n",
       "    }\n",
       "\n",
       "    .dataframe thead th {\n",
       "        text-align: right;\n",
       "    }\n",
       "</style>\n",
       "<table border=\"1\" class=\"dataframe\">\n",
       "  <thead>\n",
       "    <tr style=\"text-align: right;\">\n",
       "      <th></th>\n",
       "      <th>route_id</th>\n",
       "      <th>average_speed</th>\n",
       "      <th>month_year</th>\n",
       "    </tr>\n",
       "  </thead>\n",
       "  <tbody>\n",
       "    <tr>\n",
       "      <th>0</th>\n",
       "      <td>B41</td>\n",
       "      <td>6.877821</td>\n",
       "      <td>01/2020</td>\n",
       "    </tr>\n",
       "    <tr>\n",
       "      <th>1</th>\n",
       "      <td>B41</td>\n",
       "      <td>6.318500</td>\n",
       "      <td>01/2020</td>\n",
       "    </tr>\n",
       "    <tr>\n",
       "      <th>2</th>\n",
       "      <td>B41</td>\n",
       "      <td>7.494134</td>\n",
       "      <td>01/2020</td>\n",
       "    </tr>\n",
       "    <tr>\n",
       "      <th>3</th>\n",
       "      <td>B41</td>\n",
       "      <td>7.239026</td>\n",
       "      <td>01/2020</td>\n",
       "    </tr>\n",
       "    <tr>\n",
       "      <th>4</th>\n",
       "      <td>B41</td>\n",
       "      <td>6.716974</td>\n",
       "      <td>02/2020</td>\n",
       "    </tr>\n",
       "  </tbody>\n",
       "</table>\n",
       "</div>"
      ],
      "text/plain": [
       "  route_id  average_speed month_year\n",
       "0      B41       6.877821    01/2020\n",
       "1      B41       6.318500    01/2020\n",
       "2      B41       7.494134    01/2020\n",
       "3      B41       7.239026    01/2020\n",
       "4      B41       6.716974    02/2020"
      ]
     },
     "execution_count": 18,
     "metadata": {},
     "output_type": "execute_result"
    }
   ],
   "source": [
    "df1=pd.read_csv('./data/bus_speeds_2020_2024.csv')\n",
    "df1['month_year']= pd.to_datetime(df1['month']).dt.strftime('%m/%Y')\n",
    "df1=df1[['route_id','average_speed','month_year']]\n",
    "print(len(df1))\n",
    "df1.head()\n",
    "\n"
   ]
  },
  {
   "cell_type": "code",
   "execution_count": 19,
   "id": "2ca948fe",
   "metadata": {},
   "outputs": [
    {
     "name": "stdout",
     "output_type": "stream",
     "text": [
      "90\n"
     ]
    },
    {
     "data": {
      "text/html": [
       "<div>\n",
       "<style scoped>\n",
       "    .dataframe tbody tr th:only-of-type {\n",
       "        vertical-align: middle;\n",
       "    }\n",
       "\n",
       "    .dataframe tbody tr th {\n",
       "        vertical-align: top;\n",
       "    }\n",
       "\n",
       "    .dataframe thead th {\n",
       "        text-align: right;\n",
       "    }\n",
       "</style>\n",
       "<table border=\"1\" class=\"dataframe\">\n",
       "  <thead>\n",
       "    <tr style=\"text-align: right;\">\n",
       "      <th></th>\n",
       "      <th>route_id</th>\n",
       "      <th>average_speed</th>\n",
       "      <th>month_year</th>\n",
       "    </tr>\n",
       "  </thead>\n",
       "  <tbody>\n",
       "    <tr>\n",
       "      <th>0</th>\n",
       "      <td>B41</td>\n",
       "      <td>7.065311</td>\n",
       "      <td>01/2025</td>\n",
       "    </tr>\n",
       "    <tr>\n",
       "      <th>1</th>\n",
       "      <td>B41</td>\n",
       "      <td>6.587245</td>\n",
       "      <td>01/2025</td>\n",
       "    </tr>\n",
       "    <tr>\n",
       "      <th>2</th>\n",
       "      <td>B41</td>\n",
       "      <td>7.657926</td>\n",
       "      <td>01/2025</td>\n",
       "    </tr>\n",
       "    <tr>\n",
       "      <th>3</th>\n",
       "      <td>B41</td>\n",
       "      <td>7.391140</td>\n",
       "      <td>01/2025</td>\n",
       "    </tr>\n",
       "    <tr>\n",
       "      <th>4</th>\n",
       "      <td>B41</td>\n",
       "      <td>6.903288</td>\n",
       "      <td>02/2025</td>\n",
       "    </tr>\n",
       "  </tbody>\n",
       "</table>\n",
       "</div>"
      ],
      "text/plain": [
       "  route_id  average_speed month_year\n",
       "0      B41       7.065311    01/2025\n",
       "1      B41       6.587245    01/2025\n",
       "2      B41       7.657926    01/2025\n",
       "3      B41       7.391140    01/2025\n",
       "4      B41       6.903288    02/2025"
      ]
     },
     "execution_count": 19,
     "metadata": {},
     "output_type": "execute_result"
    }
   ],
   "source": [
    "df2=pd.read_csv('./data/bus_speeds_2025.csv')\n",
    "df2['month_year']= pd.to_datetime(df2['month']).dt.strftime('%m/%Y')\n",
    "df2=df2[['route_id','average_speed','month_year']]\n",
    "print(len(df2))\n",
    "df2.head()\n",
    "\n"
   ]
  },
  {
   "cell_type": "code",
   "execution_count": 22,
   "id": "738738b2",
   "metadata": {},
   "outputs": [
    {
     "name": "stdout",
     "output_type": "stream",
     "text": [
      "848\n"
     ]
    }
   ],
   "source": [
    "df_combined = pd.concat([df1, df2], ignore_index=True)\n",
    "print(len(df_combined))\n",
    "df_combined.head()\n",
    "\n",
    "df_combined.to_csv('./data/speeds_clean.csv')"
   ]
  }
 ],
 "metadata": {
  "kernelspec": {
   "display_name": "Python 3",
   "language": "python",
   "name": "python3"
  },
  "language_info": {
   "codemirror_mode": {
    "name": "ipython",
    "version": 3
   },
   "file_extension": ".py",
   "mimetype": "text/x-python",
   "name": "python",
   "nbconvert_exporter": "python",
   "pygments_lexer": "ipython3",
   "version": "3.12.1"
  }
 },
 "nbformat": 4,
 "nbformat_minor": 5
}
